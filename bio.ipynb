{
 "cells": [
  {
   "attachments": {},
   "cell_type": "markdown",
   "metadata": {},
   "source": [
    "# Agriculture biologique"
   ]
  },
  {
   "cell_type": "code",
   "execution_count": 8,
   "metadata": {},
   "outputs": [],
   "source": [
    "# Import de la librairie Pandas\n",
    "import pandas as pd\n",
    "\n",
    "# Import de la librairie matplotlib\n",
    "import matplotlib.pyplot as plt"
   ]
  },
  {
   "attachments": {},
   "cell_type": "markdown",
   "metadata": {},
   "source": [
    "### 1.1 - Chargement des données"
   ]
  },
  {
   "cell_type": "code",
   "execution_count": 9,
   "metadata": {},
   "outputs": [
    {
     "data": {
      "text/html": [
       "<div>\n",
       "<style scoped>\n",
       "    .dataframe tbody tr th:only-of-type {\n",
       "        vertical-align: middle;\n",
       "    }\n",
       "\n",
       "    .dataframe tbody tr th {\n",
       "        vertical-align: top;\n",
       "    }\n",
       "\n",
       "    .dataframe thead th {\n",
       "        text-align: right;\n",
       "    }\n",
       "</style>\n",
       "<table border=\"1\" class=\"dataframe\">\n",
       "  <thead>\n",
       "    <tr style=\"text-align: right;\">\n",
       "      <th></th>\n",
       "      <th>product_name</th>\n",
       "      <th>brands_tags</th>\n",
       "      <th>serving_size</th>\n",
       "      <th>est_bio</th>\n",
       "    </tr>\n",
       "  </thead>\n",
       "  <tbody>\n",
       "    <tr>\n",
       "      <th>0</th>\n",
       "      <td>Skyr</td>\n",
       "      <td>danone</td>\n",
       "      <td>NaN</td>\n",
       "      <td>False</td>\n",
       "    </tr>\n",
       "    <tr>\n",
       "      <th>1</th>\n",
       "      <td>moutarde au moût de raisin</td>\n",
       "      <td>courte-paille</td>\n",
       "      <td>NaN</td>\n",
       "      <td>False</td>\n",
       "    </tr>\n",
       "    <tr>\n",
       "      <th>2</th>\n",
       "      <td>Solène céréales poulet</td>\n",
       "      <td>crous</td>\n",
       "      <td>NaN</td>\n",
       "      <td>False</td>\n",
       "    </tr>\n",
       "    <tr>\n",
       "      <th>3</th>\n",
       "      <td>Tarte noix de coco</td>\n",
       "      <td>crous-resto,crous</td>\n",
       "      <td>NaN</td>\n",
       "      <td>False</td>\n",
       "    </tr>\n",
       "    <tr>\n",
       "      <th>4</th>\n",
       "      <td>Crème dessert chocolat</td>\n",
       "      <td>ferme-de-la-fremondiere</td>\n",
       "      <td>NaN</td>\n",
       "      <td>False</td>\n",
       "    </tr>\n",
       "    <tr>\n",
       "      <th>...</th>\n",
       "      <td>...</td>\n",
       "      <td>...</td>\n",
       "      <td>...</td>\n",
       "      <td>...</td>\n",
       "    </tr>\n",
       "    <tr>\n",
       "      <th>463917</th>\n",
       "      <td>Saveur ABRICIT</td>\n",
       "      <td>gerble</td>\n",
       "      <td>NaN</td>\n",
       "      <td>False</td>\n",
       "    </tr>\n",
       "    <tr>\n",
       "      <th>463918</th>\n",
       "      <td>Lindt pâte à tartiner</td>\n",
       "      <td>lindt</td>\n",
       "      <td>NaN</td>\n",
       "      <td>False</td>\n",
       "    </tr>\n",
       "    <tr>\n",
       "      <th>463919</th>\n",
       "      <td>Biodrink antioxydant pendant effort</td>\n",
       "      <td>punch-power</td>\n",
       "      <td>NaN</td>\n",
       "      <td>True</td>\n",
       "    </tr>\n",
       "    <tr>\n",
       "      <th>463920</th>\n",
       "      <td>miel de fleurs sauvage</td>\n",
       "      <td>miellerie-de-la-natouze</td>\n",
       "      <td>NaN</td>\n",
       "      <td>False</td>\n",
       "    </tr>\n",
       "    <tr>\n",
       "      <th>463921</th>\n",
       "      <td>Thé noir BIO Darjeeling</td>\n",
       "      <td>pages</td>\n",
       "      <td>NaN</td>\n",
       "      <td>False</td>\n",
       "    </tr>\n",
       "  </tbody>\n",
       "</table>\n",
       "<p>463922 rows × 4 columns</p>\n",
       "</div>"
      ],
      "text/plain": [
       "                               product_name              brands_tags  \\\n",
       "0                                      Skyr                   danone   \n",
       "1               moutarde au moût de raisin             courte-paille   \n",
       "2                    Solène céréales poulet                    crous   \n",
       "3                        Tarte noix de coco        crous-resto,crous   \n",
       "4                    Crème dessert chocolat  ferme-de-la-fremondiere   \n",
       "...                                     ...                      ...   \n",
       "463917                       Saveur ABRICIT                   gerble   \n",
       "463918                Lindt pâte à tartiner                    lindt   \n",
       "463919  Biodrink antioxydant pendant effort              punch-power   \n",
       "463920               miel de fleurs sauvage  miellerie-de-la-natouze   \n",
       "463921              Thé noir BIO Darjeeling                    pages   \n",
       "\n",
       "       serving_size  est_bio  \n",
       "0               NaN    False  \n",
       "1               NaN    False  \n",
       "2               NaN    False  \n",
       "3               NaN    False  \n",
       "4               NaN    False  \n",
       "...             ...      ...  \n",
       "463917          NaN    False  \n",
       "463918          NaN    False  \n",
       "463919          NaN     True  \n",
       "463920          NaN    False  \n",
       "463921          NaN    False  \n",
       "\n",
       "[463922 rows x 4 columns]"
      ]
     },
     "execution_count": 9,
     "metadata": {},
     "output_type": "execute_result"
    }
   ],
   "source": [
    "bio = pd.read_csv(\"Agriculture_biologique_final.csv\", sep =\"\\t\")\n",
    "bio"
   ]
  },
  {
   "cell_type": "code",
   "execution_count": 10,
   "metadata": {},
   "outputs": [
    {
     "name": "stdout",
     "output_type": "stream",
     "text": [
      "<class 'pandas.core.frame.DataFrame'>\n",
      "RangeIndex: 463922 entries, 0 to 463921\n",
      "Data columns (total 4 columns):\n",
      " #   Column        Non-Null Count   Dtype \n",
      "---  ------        --------------   ----- \n",
      " 0   product_name  456563 non-null  object\n",
      " 1   brands_tags   463922 non-null  object\n",
      " 2   serving_size  86178 non-null   object\n",
      " 3   est_bio       463922 non-null  bool  \n",
      "dtypes: bool(1), object(3)\n",
      "memory usage: 11.1+ MB\n"
     ]
    }
   ],
   "source": [
    "# Affichage des informations\n",
    "bio.info()"
   ]
  },
  {
   "cell_type": "code",
   "execution_count": 11,
   "metadata": {},
   "outputs": [
    {
     "data": {
      "text/html": [
       "<div>\n",
       "<style scoped>\n",
       "    .dataframe tbody tr th:only-of-type {\n",
       "        vertical-align: middle;\n",
       "    }\n",
       "\n",
       "    .dataframe tbody tr th {\n",
       "        vertical-align: top;\n",
       "    }\n",
       "\n",
       "    .dataframe thead th {\n",
       "        text-align: right;\n",
       "    }\n",
       "</style>\n",
       "<table border=\"1\" class=\"dataframe\">\n",
       "  <thead>\n",
       "    <tr style=\"text-align: right;\">\n",
       "      <th></th>\n",
       "      <th>product_name</th>\n",
       "      <th>brands_tags</th>\n",
       "      <th>serving_size</th>\n",
       "      <th>est_bio</th>\n",
       "    </tr>\n",
       "  </thead>\n",
       "  <tbody>\n",
       "    <tr>\n",
       "      <th>0</th>\n",
       "      <td>Skyr</td>\n",
       "      <td>danone</td>\n",
       "      <td>NaN</td>\n",
       "      <td>False</td>\n",
       "    </tr>\n",
       "    <tr>\n",
       "      <th>1</th>\n",
       "      <td>moutarde au moût de raisin</td>\n",
       "      <td>courte-paille</td>\n",
       "      <td>NaN</td>\n",
       "      <td>False</td>\n",
       "    </tr>\n",
       "    <tr>\n",
       "      <th>2</th>\n",
       "      <td>Solène céréales poulet</td>\n",
       "      <td>crous</td>\n",
       "      <td>NaN</td>\n",
       "      <td>False</td>\n",
       "    </tr>\n",
       "    <tr>\n",
       "      <th>3</th>\n",
       "      <td>Tarte noix de coco</td>\n",
       "      <td>crous-resto,crous</td>\n",
       "      <td>NaN</td>\n",
       "      <td>False</td>\n",
       "    </tr>\n",
       "    <tr>\n",
       "      <th>4</th>\n",
       "      <td>Crème dessert chocolat</td>\n",
       "      <td>ferme-de-la-fremondiere</td>\n",
       "      <td>NaN</td>\n",
       "      <td>False</td>\n",
       "    </tr>\n",
       "  </tbody>\n",
       "</table>\n",
       "</div>"
      ],
      "text/plain": [
       "                   product_name              brands_tags serving_size  est_bio\n",
       "0                          Skyr                   danone          NaN    False\n",
       "1   moutarde au moût de raisin             courte-paille          NaN    False\n",
       "2        Solène céréales poulet                    crous          NaN    False\n",
       "3            Tarte noix de coco        crous-resto,crous          NaN    False\n",
       "4        Crème dessert chocolat  ferme-de-la-fremondiere          NaN    False"
      ]
     },
     "execution_count": 11,
     "metadata": {},
     "output_type": "execute_result"
    }
   ],
   "source": [
    "# Affichage des premières lignes\n",
    "\n",
    "bio.head()"
   ]
  },
  {
   "cell_type": "code",
   "execution_count": 12,
   "metadata": {},
   "outputs": [
    {
     "data": {
      "text/plain": [
       "product_name      7359\n",
       "brands_tags          0\n",
       "serving_size    377744\n",
       "est_bio              0\n",
       "dtype: int64"
      ]
     },
     "execution_count": 12,
     "metadata": {},
     "output_type": "execute_result"
    }
   ],
   "source": [
    "#valeurs manquantes\n",
    "bio.isna().sum()"
   ]
  },
  {
   "cell_type": "code",
   "execution_count": 13,
   "metadata": {},
   "outputs": [
    {
     "data": {
      "text/html": [
       "<div>\n",
       "<style scoped>\n",
       "    .dataframe tbody tr th:only-of-type {\n",
       "        vertical-align: middle;\n",
       "    }\n",
       "\n",
       "    .dataframe tbody tr th {\n",
       "        vertical-align: top;\n",
       "    }\n",
       "\n",
       "    .dataframe thead th {\n",
       "        text-align: right;\n",
       "    }\n",
       "</style>\n",
       "<table border=\"1\" class=\"dataframe\">\n",
       "  <thead>\n",
       "    <tr style=\"text-align: right;\">\n",
       "      <th></th>\n",
       "      <th>product_name</th>\n",
       "      <th>brands_tags</th>\n",
       "      <th>serving_size</th>\n",
       "      <th>est_bio</th>\n",
       "    </tr>\n",
       "  </thead>\n",
       "  <tbody>\n",
       "    <tr>\n",
       "      <th>0</th>\n",
       "      <td>Skyr</td>\n",
       "      <td>danone</td>\n",
       "      <td>NaN</td>\n",
       "      <td>False</td>\n",
       "    </tr>\n",
       "    <tr>\n",
       "      <th>1</th>\n",
       "      <td>moutarde au moût de raisin</td>\n",
       "      <td>courte-paille</td>\n",
       "      <td>NaN</td>\n",
       "      <td>False</td>\n",
       "    </tr>\n",
       "    <tr>\n",
       "      <th>2</th>\n",
       "      <td>Solène céréales poulet</td>\n",
       "      <td>crous</td>\n",
       "      <td>NaN</td>\n",
       "      <td>False</td>\n",
       "    </tr>\n",
       "    <tr>\n",
       "      <th>3</th>\n",
       "      <td>Tarte noix de coco</td>\n",
       "      <td>crous-resto,crous</td>\n",
       "      <td>NaN</td>\n",
       "      <td>False</td>\n",
       "    </tr>\n",
       "    <tr>\n",
       "      <th>4</th>\n",
       "      <td>Crème dessert chocolat</td>\n",
       "      <td>ferme-de-la-fremondiere</td>\n",
       "      <td>NaN</td>\n",
       "      <td>False</td>\n",
       "    </tr>\n",
       "    <tr>\n",
       "      <th>...</th>\n",
       "      <td>...</td>\n",
       "      <td>...</td>\n",
       "      <td>...</td>\n",
       "      <td>...</td>\n",
       "    </tr>\n",
       "    <tr>\n",
       "      <th>463917</th>\n",
       "      <td>Saveur ABRICIT</td>\n",
       "      <td>gerble</td>\n",
       "      <td>NaN</td>\n",
       "      <td>False</td>\n",
       "    </tr>\n",
       "    <tr>\n",
       "      <th>463918</th>\n",
       "      <td>Lindt pâte à tartiner</td>\n",
       "      <td>lindt</td>\n",
       "      <td>NaN</td>\n",
       "      <td>False</td>\n",
       "    </tr>\n",
       "    <tr>\n",
       "      <th>463919</th>\n",
       "      <td>Biodrink antioxydant pendant effort</td>\n",
       "      <td>punch-power</td>\n",
       "      <td>NaN</td>\n",
       "      <td>True</td>\n",
       "    </tr>\n",
       "    <tr>\n",
       "      <th>463920</th>\n",
       "      <td>miel de fleurs sauvage</td>\n",
       "      <td>miellerie-de-la-natouze</td>\n",
       "      <td>NaN</td>\n",
       "      <td>False</td>\n",
       "    </tr>\n",
       "    <tr>\n",
       "      <th>463921</th>\n",
       "      <td>Thé noir BIO Darjeeling</td>\n",
       "      <td>pages</td>\n",
       "      <td>NaN</td>\n",
       "      <td>False</td>\n",
       "    </tr>\n",
       "  </tbody>\n",
       "</table>\n",
       "<p>456563 rows × 4 columns</p>\n",
       "</div>"
      ],
      "text/plain": [
       "                               product_name              brands_tags  \\\n",
       "0                                      Skyr                   danone   \n",
       "1               moutarde au moût de raisin             courte-paille   \n",
       "2                    Solène céréales poulet                    crous   \n",
       "3                        Tarte noix de coco        crous-resto,crous   \n",
       "4                    Crème dessert chocolat  ferme-de-la-fremondiere   \n",
       "...                                     ...                      ...   \n",
       "463917                       Saveur ABRICIT                   gerble   \n",
       "463918                Lindt pâte à tartiner                    lindt   \n",
       "463919  Biodrink antioxydant pendant effort              punch-power   \n",
       "463920               miel de fleurs sauvage  miellerie-de-la-natouze   \n",
       "463921              Thé noir BIO Darjeeling                    pages   \n",
       "\n",
       "       serving_size  est_bio  \n",
       "0               NaN    False  \n",
       "1               NaN    False  \n",
       "2               NaN    False  \n",
       "3               NaN    False  \n",
       "4               NaN    False  \n",
       "...             ...      ...  \n",
       "463917          NaN    False  \n",
       "463918          NaN    False  \n",
       "463919          NaN     True  \n",
       "463920          NaN    False  \n",
       "463921          NaN    False  \n",
       "\n",
       "[456563 rows x 4 columns]"
      ]
     },
     "execution_count": 13,
     "metadata": {},
     "output_type": "execute_result"
    }
   ],
   "source": [
    "bio_without_nan = bio.dropna(subset=[col for col in bio.columns if col != 'serving_size'], inplace=False)\n",
    "bio_without_nan"
   ]
  },
  {
   "cell_type": "code",
   "execution_count": 14,
   "metadata": {},
   "outputs": [
    {
     "data": {
      "text/plain": [
       "59913"
      ]
     },
     "execution_count": 14,
     "metadata": {},
     "output_type": "execute_result"
    }
   ],
   "source": [
    "bio_without_nan.duplicated().sum()"
   ]
  },
  {
   "cell_type": "code",
   "execution_count": 15,
   "metadata": {},
   "outputs": [],
   "source": [
    "bio_without_nan = bio_without_nan.drop_duplicates()"
   ]
  },
  {
   "cell_type": "code",
   "execution_count": 16,
   "metadata": {},
   "outputs": [
    {
     "data": {
      "text/html": [
       "<div>\n",
       "<style scoped>\n",
       "    .dataframe tbody tr th:only-of-type {\n",
       "        vertical-align: middle;\n",
       "    }\n",
       "\n",
       "    .dataframe tbody tr th {\n",
       "        vertical-align: top;\n",
       "    }\n",
       "\n",
       "    .dataframe thead th {\n",
       "        text-align: right;\n",
       "    }\n",
       "</style>\n",
       "<table border=\"1\" class=\"dataframe\">\n",
       "  <thead>\n",
       "    <tr style=\"text-align: right;\">\n",
       "      <th></th>\n",
       "      <th>product_name</th>\n",
       "      <th>brands_tags</th>\n",
       "      <th>serving_size</th>\n",
       "      <th>est_bio</th>\n",
       "    </tr>\n",
       "  </thead>\n",
       "  <tbody>\n",
       "    <tr>\n",
       "      <th>count</th>\n",
       "      <td>396650</td>\n",
       "      <td>396650</td>\n",
       "      <td>81360</td>\n",
       "      <td>396650</td>\n",
       "    </tr>\n",
       "    <tr>\n",
       "      <th>unique</th>\n",
       "      <td>311711</td>\n",
       "      <td>57779</td>\n",
       "      <td>9233</td>\n",
       "      <td>2</td>\n",
       "    </tr>\n",
       "    <tr>\n",
       "      <th>top</th>\n",
       "      <td>Jus de pomme</td>\n",
       "      <td>auchan</td>\n",
       "      <td>serving</td>\n",
       "      <td>False</td>\n",
       "    </tr>\n",
       "    <tr>\n",
       "      <th>freq</th>\n",
       "      <td>191</td>\n",
       "      <td>9220</td>\n",
       "      <td>9863</td>\n",
       "      <td>332714</td>\n",
       "    </tr>\n",
       "  </tbody>\n",
       "</table>\n",
       "</div>"
      ],
      "text/plain": [
       "        product_name brands_tags serving_size est_bio\n",
       "count         396650      396650        81360  396650\n",
       "unique        311711       57779         9233       2\n",
       "top     Jus de pomme      auchan      serving   False\n",
       "freq             191        9220         9863  332714"
      ]
     },
     "execution_count": 16,
     "metadata": {},
     "output_type": "execute_result"
    }
   ],
   "source": [
    "bio_without_nan.describe(include = 'all')"
   ]
  },
  {
   "cell_type": "code",
   "execution_count": 17,
   "metadata": {},
   "outputs": [
    {
     "name": "stdout",
     "output_type": "stream",
     "text": [
      "Il y a 57779 brands uniques\n"
     ]
    }
   ],
   "source": [
    "print(\"Il y a\", bio_without_nan.describe(include = 'all').loc[\"unique\",\"brands_tags\"], \"brands uniques\")\n",
    "brands_uniques = bio_without_nan.describe(include = 'all').loc[\"unique\",\"brands_tags\"]"
   ]
  },
  {
   "cell_type": "code",
   "execution_count": 18,
   "metadata": {},
   "outputs": [
    {
     "name": "stdout",
     "output_type": "stream",
     "text": [
      "Part des produits bio :\n",
      " est_bio\n",
      "False    83.881003\n",
      "True     16.118997\n",
      "Name: proportion, dtype: float64\n"
     ]
    }
   ],
   "source": [
    "\n",
    "bio_percentage = bio_without_nan['est_bio'].value_counts(normalize=True) * 100\n",
    "\n",
    "print(\"Part des produits bio :\\n\", bio_percentage)\n"
   ]
  }
 ],
 "metadata": {
  "kernelspec": {
   "display_name": "firstEnvirenment",
   "language": "python",
   "name": "python3"
  },
  "language_info": {
   "codemirror_mode": {
    "name": "ipython",
    "version": 3
   },
   "file_extension": ".py",
   "mimetype": "text/x-python",
   "name": "python",
   "nbconvert_exporter": "python",
   "pygments_lexer": "ipython3",
   "version": "3.11.3"
  },
  "orig_nbformat": 4
 },
 "nbformat": 4,
 "nbformat_minor": 2
}
